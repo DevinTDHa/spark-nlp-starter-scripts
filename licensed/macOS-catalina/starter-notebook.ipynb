{
 "cells": [
  {
   "cell_type": "markdown",
   "id": "ce1373df",
   "metadata": {},
   "source": [
    "![JohnSnowLabs](https://nlp.johnsnowlabs.com/assets/images/logo.png)"
   ]
  },
  {
   "cell_type": "markdown",
   "id": "f3670cc9",
   "metadata": {},
   "source": [
    "# Setup"
   ]
  },
  {
   "cell_type": "markdown",
   "id": "dc63ecab",
   "metadata": {},
   "source": [
    "## Authentication-Cell \n",
    "You must re-run this each time you restart the Kernel to set the environment variables"
   ]
  },
  {
   "cell_type": "code",
   "execution_count": null,
   "id": "ba1d525c",
   "metadata": {},
   "outputs": [],
   "source": [
    "import json\n",
    "import os\n",
    "import re\n",
    "\n",
    "# Upload your spark_nlp_for_healthcare.json to the default directory and then run this cell to set env variables \n",
    "with open('spark_nlp_for_healthcare.json', 'r') as f:\n",
    "    for k, v in json.load(f).items():\n",
    "        %set_env $k=$v\n",
    "\n",
    "# Upload your spark_ocr.json to the default directory and then run this cell to set env variables\n",
    "ocr_version_pattern = re.compile(r\"(\\d+\\.\\d+\\.\\d+).*?(spark\\d+)\")\n",
    "with open('spark_ocr.json', 'r') as f:\n",
    "    for k, v in json.load(f).items():\n",
    "        %set_env $k=$v\n",
    "        if k == 'SPARK_OCR_LICENSE' :\n",
    "            k = 'JSL_OCR_LICENSE'\n",
    "            %set_env $k=$v\n",
    "        if k == 'JSL_OCR_SECRET' :\n",
    "            k = 'SPARK_OCR_SECRET'\n",
    "            %set_env $k=$v\n",
    "        if k == 'OCR_VERSION':\n",
    "            match = ocr_version_pattern.findall(v)\n",
    "            if match:\n",
    "                ocr_base_version, ocr_spark_version = match[0]\n",
    "                %set_env OCR_BASE_VERSION=$ocr_base_version\n",
    "                %set_env OCR_SPARK_VERSION=$ocr_spark_version\n",
    "\n",
    "# Set Spark Version here:\n",
    "%set_env PYSPARK=3.0.2"
   ]
  },
  {
   "cell_type": "markdown",
   "id": "e45d66f9",
   "metadata": {},
   "source": [
    "The initial setup only needs to be run once."
   ]
  },
  {
   "cell_type": "code",
   "execution_count": null,
   "id": "444ca84a",
   "metadata": {
    "scrolled": true
   },
   "outputs": [],
   "source": [
    "!bash ./spark-nlp-setup-macOS-catalina.sh"
   ]
  },
  {
   "cell_type": "markdown",
   "id": "substantial-style",
   "metadata": {},
   "source": [
    "### Please restart the kernel after the script finishes. \n",
    "You will need to re-run the **authentication cell** each time you start this notebook."
   ]
  },
  {
   "cell_type": "markdown",
   "id": "related-metro",
   "metadata": {},
   "source": [
    "## Starting the Spark session"
   ]
  },
  {
   "cell_type": "code",
   "execution_count": null,
   "id": "db46bf87",
   "metadata": {},
   "outputs": [],
   "source": [
    "import sparknlp\n",
    "import sparknlp_jsl\n",
    "import sparkocr\n",
    "# Create or get Spark Session\n",
    "from pyspark.sql import SparkSession\n",
    "\n",
    "PWD = os.getcwd()\n",
    "SECRET = os.environ[\"SECRET\"]\n",
    "PUBLIC_VERSION = os.environ[\"PUBLIC_VERSION\"]\n",
    "JSL_VERSION = os.environ[\"JSL_VERSION\"]\n",
    "OCR_VERSION = f\"{ocr_base_version}-{ocr_spark_version}\"\n",
    "\n",
    "spark = SparkSession.builder \\\n",
    "    .appName(\"Spark NLP\") \\\n",
    "    .master(\"local[*]\") \\\n",
    "    .config(\"spark.driver.memory\",\"12G\") \\\n",
    "    .config(\"spark.driver.maxResultSize\", \"2G\") \\\n",
    "    .config(\"spark.serializer\", \"org.apache.spark.serializer.KryoSerializer\") \\\n",
    "    .config(\"spark.kryoserializer.buffer.max\", \"800M\")\\\n",
    "    .config(\"spark.sql.legacy.allowUntypedScalaUDF\", True) \\\n",
    "    .config(\"spark.jars.packages\", f\"com.johnsnowlabs.nlp:spark-nlp_2.12:{PUBLIC_VERSION}\") \\\n",
    "    .config(\"spark.jars\", f\"file:///{PWD}/spark-nlp-jsl-{JSL_VERSION}.jar,file:///{PWD}/spark-ocr-assembly-{OCR_VERSION}.jar\") \\\n",
    "    .getOrCreate()\n",
    "\n",
    "print(\"spark.version\", spark.version)\n",
    "print(\"sparknlp.version()\", sparknlp.version())\n",
    "print(\"sparkocr.version()\", sparkocr.version())\n",
    "print(\"sparknlp_jsl.version()\", sparknlp_jsl.version())"
   ]
  },
  {
   "cell_type": "markdown",
   "id": "d3aa4c61",
   "metadata": {},
   "source": [
    "# Spark NLP"
   ]
  },
  {
   "cell_type": "code",
   "execution_count": null,
   "id": "91d528dc",
   "metadata": {},
   "outputs": [],
   "source": [
    "from sparknlp.pretrained import PretrainedPipeline\n",
    "from sparknlp.base import *\n",
    "from sparknlp.annotator import *"
   ]
  },
  {
   "cell_type": "code",
   "execution_count": null,
   "id": "2fc6c244",
   "metadata": {},
   "outputs": [],
   "source": [
    "pipeline = PretrainedPipeline('recognize_entities_dl', 'en')\n",
    "result = pipeline.annotate(\"Harry Potter is a great movie\")\n",
    "result"
   ]
  },
  {
   "cell_type": "markdown",
   "id": "95bd2c4e",
   "metadata": {},
   "source": [
    "# Spark NLP for Healthcare"
   ]
  },
  {
   "cell_type": "code",
   "execution_count": null,
   "id": "5a38d43b",
   "metadata": {},
   "outputs": [],
   "source": [
    "import sparknlp\n",
    "import sparknlp_jsl\n",
    "from sparknlp.base import *\n",
    "from sparknlp.util import *\n",
    "from sparknlp.annotator import *\n",
    "from sparknlp_jsl.annotator import *\n",
    "from sparknlp.pretrained import ResourceDownloader\n",
    "\n",
    "from pyspark.sql import functions as F\n",
    "from pyspark.ml import Pipeline, PipelineModel\n",
    "\n",
    "# Annotator that transforms a text column from dataframe into an Annotation ready for NLP\n",
    "documentAssembler = DocumentAssembler()\\\n",
    "        .setInputCol(\"text\")\\\n",
    "        .setOutputCol(\"document\")\n",
    "\n",
    "# Sentence Detector annotator, processes various sentences per line\n",
    "\n",
    "#sentenceDetector = SentenceDetector()\\\n",
    "        #.setInputCols([\"document\"])\\\n",
    "        #.setOutputCol(\"sentence\")\n",
    "sentenceDetector = SentenceDetectorDLModel.pretrained(\"sentence_detector_dl_healthcare\",\"en\",\"clinical/models\")\\\n",
    "        .setInputCols([\"document\"])\\\n",
    "        .setOutputCol(\"sentence\")\n",
    " \n",
    "# Tokenizer splits words in a relevant format for NLP\n",
    "tokenizer = Tokenizer()\\\n",
    "        .setInputCols([\"sentence\"])\\\n",
    "        .setOutputCol(\"token\")\n",
    "\n",
    "# Clinical word embeddings trained on PubMED dataset\n",
    "word_embeddings = WordEmbeddingsModel.pretrained(\"embeddings_clinical\",\"en\",\"clinical/models\")\\\n",
    "        .setInputCols([\"sentence\",\"token\"])\\\n",
    "        .setOutputCol(\"embeddings\")\n",
    "\n",
    "# NER model trained on i2b2 (sampled from MIMIC) dataset\n",
    "clinical_ner = MedicalNerModel.pretrained(\"ner_clinical_large\",\"en\",\"clinical/models\")\\\n",
    "        .setInputCols([\"sentence\",\"token\",\"embeddings\"])\\\n",
    "        .setOutputCol(\"ner\")\n",
    "\n",
    "ner_converter = NerConverter()\\\n",
    "        .setInputCols([\"sentence\",\"token\",\"ner\"])\\\n",
    "        .setOutputCol(\"ner_chunk\")\n",
    "\n",
    "nlpPipeline = Pipeline(stages=[\n",
    "        documentAssembler,\n",
    "        sentenceDetector,\n",
    "        tokenizer,\n",
    "        word_embeddings,\n",
    "        clinical_ner,\n",
    "        ner_converter])\n",
    "\n",
    "\n",
    "data = spark.createDataFrame([[\"\"\"The human KCNJ9 (Kir 3.3, GIRK3) is a member of the G-protein-activated inwardly rectifying potassium (GIRK) channel family. Here we describe the genomicorganization of the KCNJ9 locus on chromosome 1q21-23 as a candidate gene forType II diabetes mellitus in the Pima Indian population. The gene spansapproximately 7.6 kb and contains one noncoding and two coding exons separated byapproximately 2.2 and approximately 2.6 kb introns, respectively. We identified14 single nucleotide polymorphisms (SNPs), including one that predicts aVal366Ala substitution, and an 8 base-pair (bp) insertion/deletion. Ourexpression studies revealed the presence of the transcript in various humantissues including pancreas, and two major insulin-responsive tissues: fat andskeletal muscle. The characterization of the KCNJ9 gene should facilitate furtherstudies on the function of the KCNJ9 protein and allow evaluation of thepotential role of the locus in Type II diabetes.\"\n",
    "\"\"\"]]).toDF(\"text\")\n",
    "\n",
    "model = nlpPipeline.fit(data)\n",
    "result = model.transform(data)\n",
    "result.select(\"ner_chunk\").show()"
   ]
  },
  {
   "cell_type": "markdown",
   "id": "1a25e901",
   "metadata": {},
   "source": [
    "# Spark OCR"
   ]
  },
  {
   "cell_type": "code",
   "execution_count": null,
   "id": "1c609adf",
   "metadata": {
    "id": "Kj8tsYfljiBP"
   },
   "outputs": [],
   "source": [
    "!curl -L \"http://www.asx.com.au/asxpdf/20171103/pdf/43nyyw9r820c6r.pdf\" --output sample_doc.pdf "
   ]
  },
  {
   "cell_type": "code",
   "execution_count": null,
   "id": "b872124b",
   "metadata": {
    "id": "FwAGTafIj4Bi"
   },
   "outputs": [],
   "source": [
    "from sparkocr.transformers import *\n",
    "from sparkocr.transformers import *\n",
    "from pyspark.ml import PipelineModel\n",
    "from sparkocr.utils import display_image\n",
    "from sparkocr.metrics import score\n",
    "def pipeline():\n",
    "    # Transforrm PDF document to images per page\n",
    "    pdf_to_image = PdfToImage()\\\n",
    "          .setInputCol(\"content\")\\\n",
    "          .setOutputCol(\"image\")\n",
    "    # Run OCR\n",
    "    ocr = ImageToText()\\\n",
    "          .setInputCol(\"image\")\\\n",
    "          .setOutputCol(\"text\")\\\n",
    "          .setConfidenceThreshold(65)\n",
    "    \n",
    "    pipeline = PipelineModel(stages=[\n",
    "        pdf_to_image,\n",
    "        ocr\n",
    "    ])\n",
    "    \n",
    "    return pipeline"
   ]
  },
  {
   "cell_type": "code",
   "execution_count": null,
   "id": "1b9a3de4",
   "metadata": {
    "id": "xNh4i1Woj6oo"
   },
   "outputs": [],
   "source": [
    "pdf = 'sample_doc.pdf'\n",
    "pdf_example_df = spark.read.format(\"binaryFile\").load(pdf).cache()"
   ]
  },
  {
   "cell_type": "code",
   "execution_count": null,
   "id": "6198aa40",
   "metadata": {
    "id": "Tp7a9yMqkCGu"
   },
   "outputs": [],
   "source": [
    "result = pipeline().transform(pdf_example_df).cache()"
   ]
  },
  {
   "cell_type": "code",
   "execution_count": null,
   "id": "f1e879f7",
   "metadata": {
    "colab": {
     "base_uri": "https://localhost:8080/"
    },
    "executionInfo": {
     "elapsed": 22587,
     "status": "ok",
     "timestamp": 1618325351009,
     "user": {
      "displayName": "muhammet şantaş",
      "photoUrl": "",
      "userId": "01037434825541536598"
     },
     "user_tz": -180
    },
    "id": "VWND8q95kE47",
    "outputId": "dd581f75-4a9d-4375-d1e9-a9d5a57eb44c"
   },
   "outputs": [],
   "source": [
    "result.select(\"pagenum\",\"text\", \"confidence\").show()"
   ]
  },
  {
   "cell_type": "code",
   "execution_count": null,
   "id": "dbee7f69",
   "metadata": {
    "colab": {
     "base_uri": "https://localhost:8080/"
    },
    "executionInfo": {
     "elapsed": 22573,
     "status": "ok",
     "timestamp": 1618325351010,
     "user": {
      "displayName": "muhammet şantaş",
      "photoUrl": "",
      "userId": "01037434825541536598"
     },
     "user_tz": -180
    },
    "id": "rj7rv4b7kTNo",
    "outputId": "83822c91-9132-4d91-955f-c298c3c5a98f"
   },
   "outputs": [],
   "source": [
    "result.select(\"text\").collect()"
   ]
  }
 ],
 "metadata": {
  "interpreter": {
   "hash": "aee8b7b246df8f9039afb4144a1f6fd8d2ca17a180786b69acc140d282b71a49"
  },
  "kernelspec": {
   "display_name": "Python 3",
   "language": "python",
   "name": "python3"
  },
  "language_info": {
   "codemirror_mode": {
    "name": "ipython",
    "version": 3
   },
   "file_extension": ".py",
   "mimetype": "text/x-python",
   "name": "python",
   "nbconvert_exporter": "python",
   "pygments_lexer": "ipython3",
   "version": "3.9.5"
  }
 },
 "nbformat": 4,
 "nbformat_minor": 5
}